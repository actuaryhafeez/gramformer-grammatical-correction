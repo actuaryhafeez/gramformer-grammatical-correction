{
 "cells": [
  {
   "cell_type": "markdown",
   "id": "ea9ed8ee-a3e0-4f4e-ba8d-ac0cfd3b70d2",
   "metadata": {},
   "source": [
    "# Step 1: Install and Import Dependencies"
   ]
  },
  {
   "cell_type": "code",
   "execution_count": null,
   "id": "b5ed003a-e14c-42ca-aadd-66e78b4afcb9",
   "metadata": {},
   "outputs": [],
   "source": [
    "# Install specific versions of PyTorch and related packages.\n",
    "!pip install torch torchvision torchaudio"
   ]
  },
  {
   "cell_type": "code",
   "execution_count": null,
   "id": "ac7cd52b-978d-4885-97a9-454d8cce37d0",
   "metadata": {},
   "outputs": [],
   "source": [
    "# Install Gramformer from the provided GitHub repository.\n",
    "!pip install git+https://github.com/PrithivirajDamodaran/Gramformer.git"
   ]
  },
  {
   "cell_type": "code",
   "execution_count": null,
   "id": "53d2b729-6689-404b-a3fd-67f842e83b12",
   "metadata": {},
   "outputs": [],
   "source": [
    "!pip install spacy\n"
   ]
  },
  {
   "cell_type": "code",
   "execution_count": null,
   "id": "4bb188b2-b679-4594-9d3b-5ba0dc45a9fe",
   "metadata": {},
   "outputs": [],
   "source": [
    "!python -m spacy download en"
   ]
  },
  {
   "cell_type": "code",
   "execution_count": null,
   "id": "be09aa20-b3e9-4160-9fec-63d1b6e44a7c",
   "metadata": {},
   "outputs": [],
   "source": [
    "!python -m spacy download en_core_web_sm\n"
   ]
  },
  {
   "cell_type": "code",
   "execution_count": 1,
   "id": "47375b02-b2d7-4342-afa9-0af7857e7103",
   "metadata": {},
   "outputs": [],
   "source": [
    "# Import the Gramformer library.\n",
    "from gramformer import Gramformer"
   ]
  },
  {
   "cell_type": "markdown",
   "id": "a729d7c9-b5b6-4fda-ae8a-49afccbfdeb4",
   "metadata": {},
   "source": [
    "# Step 2: Instantiate Gramformer"
   ]
  },
  {
   "cell_type": "code",
   "execution_count": 2,
   "id": "37a3544d-8e51-452a-a386-063b01e9b45e",
   "metadata": {},
   "outputs": [
    {
     "name": "stderr",
     "output_type": "stream",
     "text": [
      "C:\\Users\\hafee\\AppData\\Local\\Programs\\Python\\Python311\\Lib\\site-packages\\tqdm\\auto.py:22: TqdmWarning: IProgress not found. Please update jupyter and ipywidgets. See https://ipywidgets.readthedocs.io/en/stable/user_install.html\n",
      "  from .autonotebook import tqdm as notebook_tqdm\n"
     ]
    },
    {
     "name": "stdout",
     "output_type": "stream",
     "text": [
      "[Gramformer] Grammar error correct/highlight model loaded..\n",
      "[Gramformer] All models loaded..\n"
     ]
    }
   ],
   "source": [
    "# Create an instance of Gramformer with multiple models (0 = detector, 1 = highlighter, 2 = corrector, 3 = all).\n",
    "gf = Gramformer(models=1, use_gpu=False)  # 0 = detector, 1 = highlighter, 2 = corrector, 3 = all\n",
    "print(\"[Gramformer] All models loaded..\")"
   ]
  },
  {
   "cell_type": "markdown",
   "id": "e04aedbc-e81c-425c-8ca7-a7acaa128abe",
   "metadata": {},
   "source": [
    "# Step 3: Run Correction"
   ]
  },
  {
   "cell_type": "code",
   "execution_count": 3,
   "id": "ea60cd16-83f5-4392-a07f-7a3c5d11e67f",
   "metadata": {},
   "outputs": [
    {
     "name": "stdout",
     "output_type": "stream",
     "text": [
      "He went to the store yesterday.\n"
     ]
    }
   ],
   "source": [
    "# Correct a single sentence and print the result.\n",
    "corrected_sentence = gf.correct('He goes to the store yesterday.')\n",
    "print(str(list(corrected_sentence)[0]))  # Access the first corrected sentence in the list\n"
   ]
  },
  {
   "cell_type": "code",
   "execution_count": 4,
   "id": "83536fae-889f-4611-9e99-44541c0b859b",
   "metadata": {},
   "outputs": [],
   "source": [
    "# Define a list of sentences to be corrected.\n",
    "sentences = [\n",
    "    'He goes to the store yesterday.',\n",
    "    \"She don't like pizza.\",\n",
    "    'My dogs is barking loudly.',\n",
    "    'I have too many stuffs to do.',\n",
    "]"
   ]
  },
  {
   "cell_type": "code",
   "execution_count": 6,
   "id": "603057b2-2fe6-4a4a-b022-77db81c41802",
   "metadata": {},
   "outputs": [
    {
     "name": "stdout",
     "output_type": "stream",
     "text": [
      "He went to the store yesterday.\n",
      "She doesn't like pizza.\n",
      "My dog is barking loudly.\n",
      "I have too many things to do.\n"
     ]
    }
   ],
   "source": [
    "# Loop through the list of sentences, correct them, and print the corrected versions.\n",
    "for sentence in sentences:\n",
    "    corrected_sentence = gf.correct(sentence)\n",
    "    print(str(list(corrected_sentence)[0]))"
   ]
  },
  {
   "cell_type": "markdown",
   "id": "7414803f-a215-4e9b-97fd-31fed9c8e342",
   "metadata": {},
   "source": [
    "# Step 4: Putting it Together with Gradio"
   ]
  },
  {
   "cell_type": "code",
   "execution_count": null,
   "id": "5d17dd9f-50e2-40cc-811c-1c17a177c56a",
   "metadata": {},
   "outputs": [],
   "source": [
    "# Install the Gradio library.\n",
    "!pip install gradio\n"
   ]
  },
  {
   "cell_type": "code",
   "execution_count": 7,
   "id": "476b5212-b142-47d1-b424-1dcef6bd1325",
   "metadata": {},
   "outputs": [],
   "source": [
    "# Import Gradio.\n",
    "import gradio as gr"
   ]
  },
  {
   "cell_type": "code",
   "execution_count": 8,
   "id": "97c1037b-9257-419a-ab9f-a408c18bda5a",
   "metadata": {},
   "outputs": [],
   "source": [
    "# Define a function to correct sentences using Gramformer.\n",
    "def correct(sentence):\n",
    "    # Use Gramformer to correct the input sentence.\n",
    "    corrected_sentences = gf.correct(sentence)\n",
    "    # Convert the set to a list and get the first element, then convert it to a string.\n",
    "    corrected_sentence = str(list(corrected_sentences)[0])\n",
    "    # Return the corrected sentence as a string.\n",
    "    return corrected_sentence"
   ]
  },
  {
   "cell_type": "code",
   "execution_count": 9,
   "id": "c4d5acb2-326e-44ff-896d-e1995610777b",
   "metadata": {},
   "outputs": [
    {
     "name": "stdout",
     "output_type": "stream",
     "text": [
      "Running on local URL:  http://127.0.0.1:7860\n",
      "\n",
      "To create a public link, set `share=True` in `launch()`.\n"
     ]
    },
    {
     "data": {
      "text/html": [
       "<div><iframe src=\"http://127.0.0.1:7860/\" width=\"100%\" height=\"500\" allow=\"autoplay; camera; microphone; clipboard-read; clipboard-write;\" frameborder=\"0\" allowfullscreen></iframe></div>"
      ],
      "text/plain": [
       "<IPython.core.display.HTML object>"
      ]
     },
     "metadata": {},
     "output_type": "display_data"
    },
    {
     "data": {
      "text/plain": []
     },
     "execution_count": 9,
     "metadata": {},
     "output_type": "execute_result"
    }
   ],
   "source": [
    "# Create a Gradio interface with the correction function and a new title.\n",
    "interface = gr.Interface(\n",
    "    fn=correct,  # Function for correction\n",
    "    inputs=gr.Textbox(placeholder=\"Enter a sentence here...\"),  # Input component\n",
    "    outputs='text',  # Output format\n",
    "    title='Grammatical Error Correction'  # New interface title\n",
    ")\n",
    "\n",
    "# Launch the Gradio interface locally.\n",
    "interface.launch()\n"
   ]
  }
 ],
 "metadata": {
  "kernelspec": {
   "display_name": "Python 3 (ipykernel)",
   "language": "python",
   "name": "python3"
  },
  "language_info": {
   "codemirror_mode": {
    "name": "ipython",
    "version": 3
   },
   "file_extension": ".py",
   "mimetype": "text/x-python",
   "name": "python",
   "nbconvert_exporter": "python",
   "pygments_lexer": "ipython3",
   "version": "3.11.0"
  }
 },
 "nbformat": 4,
 "nbformat_minor": 5
}
